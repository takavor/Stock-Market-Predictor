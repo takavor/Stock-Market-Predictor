{
 "cells": [
  {
   "cell_type": "markdown",
   "metadata": {},
   "source": [
    "## Dependencies"
   ]
  },
  {
   "cell_type": "code",
   "execution_count": 108,
   "metadata": {},
   "outputs": [],
   "source": [
    "import yfinance as yf\n",
    "import matplotlib.pyplot as plt\n",
    "import pandas as pd\n",
    "from tqdm import tqdm"
   ]
  },
  {
   "cell_type": "markdown",
   "metadata": {},
   "source": [
    "## Importing the data"
   ]
  },
  {
   "cell_type": "markdown",
   "metadata": {},
   "source": [
    "Fetch DOW ticker from yfinance"
   ]
  },
  {
   "cell_type": "code",
   "execution_count": 109,
   "metadata": {},
   "outputs": [],
   "source": [
    "dow = yf.Ticker('^DJI')"
   ]
  },
  {
   "cell_type": "markdown",
   "metadata": {},
   "source": [
    "Obtain trading history"
   ]
  },
  {
   "cell_type": "code",
   "execution_count": 110,
   "metadata": {},
   "outputs": [
    {
     "data": {
      "text/html": [
       "<div>\n",
       "<style scoped>\n",
       "    .dataframe tbody tr th:only-of-type {\n",
       "        vertical-align: middle;\n",
       "    }\n",
       "\n",
       "    .dataframe tbody tr th {\n",
       "        vertical-align: top;\n",
       "    }\n",
       "\n",
       "    .dataframe thead th {\n",
       "        text-align: right;\n",
       "    }\n",
       "</style>\n",
       "<table border=\"1\" class=\"dataframe\">\n",
       "  <thead>\n",
       "    <tr style=\"text-align: right;\">\n",
       "      <th></th>\n",
       "      <th>Open</th>\n",
       "      <th>High</th>\n",
       "      <th>Low</th>\n",
       "      <th>Close</th>\n",
       "      <th>Volume</th>\n",
       "      <th>Dividends</th>\n",
       "      <th>Stock Splits</th>\n",
       "    </tr>\n",
       "    <tr>\n",
       "      <th>Date</th>\n",
       "      <th></th>\n",
       "      <th></th>\n",
       "      <th></th>\n",
       "      <th></th>\n",
       "      <th></th>\n",
       "      <th></th>\n",
       "      <th></th>\n",
       "    </tr>\n",
       "  </thead>\n",
       "  <tbody>\n",
       "    <tr>\n",
       "      <th>1992-01-02 00:00:00-05:00</th>\n",
       "      <td>3152.100098</td>\n",
       "      <td>3172.629883</td>\n",
       "      <td>3139.310059</td>\n",
       "      <td>3172.399902</td>\n",
       "      <td>23550000</td>\n",
       "      <td>0.0</td>\n",
       "      <td>0.0</td>\n",
       "    </tr>\n",
       "    <tr>\n",
       "      <th>1992-01-03 00:00:00-05:00</th>\n",
       "      <td>3172.399902</td>\n",
       "      <td>3210.639893</td>\n",
       "      <td>3165.919922</td>\n",
       "      <td>3201.500000</td>\n",
       "      <td>23620000</td>\n",
       "      <td>0.0</td>\n",
       "      <td>0.0</td>\n",
       "    </tr>\n",
       "    <tr>\n",
       "      <th>1992-01-06 00:00:00-05:00</th>\n",
       "      <td>3201.500000</td>\n",
       "      <td>3213.330078</td>\n",
       "      <td>3191.860107</td>\n",
       "      <td>3200.100098</td>\n",
       "      <td>27280000</td>\n",
       "      <td>0.0</td>\n",
       "      <td>0.0</td>\n",
       "    </tr>\n",
       "    <tr>\n",
       "      <th>1992-01-07 00:00:00-05:00</th>\n",
       "      <td>3200.100098</td>\n",
       "      <td>3210.199951</td>\n",
       "      <td>3184.479980</td>\n",
       "      <td>3204.800049</td>\n",
       "      <td>25510000</td>\n",
       "      <td>0.0</td>\n",
       "      <td>0.0</td>\n",
       "    </tr>\n",
       "    <tr>\n",
       "      <th>1992-01-08 00:00:00-05:00</th>\n",
       "      <td>3204.800049</td>\n",
       "      <td>3229.199951</td>\n",
       "      <td>3185.820068</td>\n",
       "      <td>3203.899902</td>\n",
       "      <td>29040000</td>\n",
       "      <td>0.0</td>\n",
       "      <td>0.0</td>\n",
       "    </tr>\n",
       "    <tr>\n",
       "      <th>...</th>\n",
       "      <td>...</td>\n",
       "      <td>...</td>\n",
       "      <td>...</td>\n",
       "      <td>...</td>\n",
       "      <td>...</td>\n",
       "      <td>...</td>\n",
       "      <td>...</td>\n",
       "    </tr>\n",
       "    <tr>\n",
       "      <th>2023-12-22 00:00:00-05:00</th>\n",
       "      <td>37349.269531</td>\n",
       "      <td>37534.519531</td>\n",
       "      <td>37268.878906</td>\n",
       "      <td>37385.968750</td>\n",
       "      <td>252970000</td>\n",
       "      <td>0.0</td>\n",
       "      <td>0.0</td>\n",
       "    </tr>\n",
       "    <tr>\n",
       "      <th>2023-12-26 00:00:00-05:00</th>\n",
       "      <td>37405.898438</td>\n",
       "      <td>37617.988281</td>\n",
       "      <td>37371.828125</td>\n",
       "      <td>37545.328125</td>\n",
       "      <td>212420000</td>\n",
       "      <td>0.0</td>\n",
       "      <td>0.0</td>\n",
       "    </tr>\n",
       "    <tr>\n",
       "      <th>2023-12-27 00:00:00-05:00</th>\n",
       "      <td>37518.621094</td>\n",
       "      <td>37683.699219</td>\n",
       "      <td>37488.601562</td>\n",
       "      <td>37656.519531</td>\n",
       "      <td>245530000</td>\n",
       "      <td>0.0</td>\n",
       "      <td>0.0</td>\n",
       "    </tr>\n",
       "    <tr>\n",
       "      <th>2023-12-28 00:00:00-05:00</th>\n",
       "      <td>37661.519531</td>\n",
       "      <td>37778.851562</td>\n",
       "      <td>37650.980469</td>\n",
       "      <td>37710.101562</td>\n",
       "      <td>199550000</td>\n",
       "      <td>0.0</td>\n",
       "      <td>0.0</td>\n",
       "    </tr>\n",
       "    <tr>\n",
       "      <th>2023-12-29 00:00:00-05:00</th>\n",
       "      <td>37701.628906</td>\n",
       "      <td>37759.429688</td>\n",
       "      <td>37538.800781</td>\n",
       "      <td>37689.539062</td>\n",
       "      <td>234570000</td>\n",
       "      <td>0.0</td>\n",
       "      <td>0.0</td>\n",
       "    </tr>\n",
       "  </tbody>\n",
       "</table>\n",
       "<p>8059 rows × 7 columns</p>\n",
       "</div>"
      ],
      "text/plain": [
       "                                   Open          High           Low  \\\n",
       "Date                                                                  \n",
       "1992-01-02 00:00:00-05:00   3152.100098   3172.629883   3139.310059   \n",
       "1992-01-03 00:00:00-05:00   3172.399902   3210.639893   3165.919922   \n",
       "1992-01-06 00:00:00-05:00   3201.500000   3213.330078   3191.860107   \n",
       "1992-01-07 00:00:00-05:00   3200.100098   3210.199951   3184.479980   \n",
       "1992-01-08 00:00:00-05:00   3204.800049   3229.199951   3185.820068   \n",
       "...                                 ...           ...           ...   \n",
       "2023-12-22 00:00:00-05:00  37349.269531  37534.519531  37268.878906   \n",
       "2023-12-26 00:00:00-05:00  37405.898438  37617.988281  37371.828125   \n",
       "2023-12-27 00:00:00-05:00  37518.621094  37683.699219  37488.601562   \n",
       "2023-12-28 00:00:00-05:00  37661.519531  37778.851562  37650.980469   \n",
       "2023-12-29 00:00:00-05:00  37701.628906  37759.429688  37538.800781   \n",
       "\n",
       "                                  Close     Volume  Dividends  Stock Splits  \n",
       "Date                                                                         \n",
       "1992-01-02 00:00:00-05:00   3172.399902   23550000        0.0           0.0  \n",
       "1992-01-03 00:00:00-05:00   3201.500000   23620000        0.0           0.0  \n",
       "1992-01-06 00:00:00-05:00   3200.100098   27280000        0.0           0.0  \n",
       "1992-01-07 00:00:00-05:00   3204.800049   25510000        0.0           0.0  \n",
       "1992-01-08 00:00:00-05:00   3203.899902   29040000        0.0           0.0  \n",
       "...                                 ...        ...        ...           ...  \n",
       "2023-12-22 00:00:00-05:00  37385.968750  252970000        0.0           0.0  \n",
       "2023-12-26 00:00:00-05:00  37545.328125  212420000        0.0           0.0  \n",
       "2023-12-27 00:00:00-05:00  37656.519531  245530000        0.0           0.0  \n",
       "2023-12-28 00:00:00-05:00  37710.101562  199550000        0.0           0.0  \n",
       "2023-12-29 00:00:00-05:00  37689.539062  234570000        0.0           0.0  \n",
       "\n",
       "[8059 rows x 7 columns]"
      ]
     },
     "execution_count": 110,
     "metadata": {},
     "output_type": "execute_result"
    }
   ],
   "source": [
    "dow = dow.history(period='max')\n",
    "dow"
   ]
  },
  {
   "cell_type": "markdown",
   "metadata": {},
   "source": [
    "Remove old data"
   ]
  },
  {
   "cell_type": "markdown",
   "metadata": {},
   "source": [
    "## Cleaning data and visualizing"
   ]
  },
  {
   "cell_type": "markdown",
   "metadata": {},
   "source": [
    "Plot closing price over time"
   ]
  },
  {
   "cell_type": "code",
   "execution_count": 111,
   "metadata": {},
   "outputs": [
    {
     "data": {
      "image/png": "[encoded data removed]",
      "text/plain": [
       "<Figure size 640x480 with 1 Axes>"
      ]
     },
     "metadata": {},
     "output_type": "display_data"
    }
   ],
   "source": [
    "dow.plot.line(y='Close', use_index=True)\n",
    "plt.show()"
   ]
  },
  {
   "cell_type": "markdown",
   "metadata": {},
   "source": [
    "Remove unnecessary columns from dataframe"
   ]
  },
  {
   "cell_type": "code",
   "execution_count": 112,
   "metadata": {},
   "outputs": [],
   "source": [
    "del dow['Dividends']\n",
    "del dow['Stock Splits']"
   ]
  },
  {
   "cell_type": "markdown",
   "metadata": {},
   "source": [
    "Create column for stock prices of tomorrow"
   ]
  },
  {
   "cell_type": "code",
   "execution_count": 113,
   "metadata": {},
   "outputs": [
    {
     "data": {
      "text/html": [
       "<div>\n",
       "<style scoped>\n",
       "    .dataframe tbody tr th:only-of-type {\n",
       "        vertical-align: middle;\n",
       "    }\n",
       "\n",
       "    .dataframe tbody tr th {\n",
       "        vertical-align: top;\n",
       "    }\n",
       "\n",
       "    .dataframe thead th {\n",
       "        text-align: right;\n",
       "    }\n",
       "</style>\n",
       "<table border=\"1\" class=\"dataframe\">\n",
       "  <thead>\n",
       "    <tr style=\"text-align: right;\">\n",
       "      <th></th>\n",
       "      <th>Open</th>\n",
       "      <th>High</th>\n",
       "      <th>Low</th>\n",
       "      <th>Close</th>\n",
       "      <th>Volume</th>\n",
       "      <th>Tomorrow</th>\n",
       "    </tr>\n",
       "    <tr>\n",
       "      <th>Date</th>\n",
       "      <th></th>\n",
       "      <th></th>\n",
       "      <th></th>\n",
       "      <th></th>\n",
       "      <th></th>\n",
       "      <th></th>\n",
       "    </tr>\n",
       "  </thead>\n",
       "  <tbody>\n",
       "    <tr>\n",
       "      <th>1992-01-02 00:00:00-05:00</th>\n",
       "      <td>3152.100098</td>\n",
       "      <td>3172.629883</td>\n",
       "      <td>3139.310059</td>\n",
       "      <td>3172.399902</td>\n",
       "      <td>23550000</td>\n",
       "      <td>3201.500000</td>\n",
       "    </tr>\n",
       "    <tr>\n",
       "      <th>1992-01-03 00:00:00-05:00</th>\n",
       "      <td>3172.399902</td>\n",
       "      <td>3210.639893</td>\n",
       "      <td>3165.919922</td>\n",
       "      <td>3201.500000</td>\n",
       "      <td>23620000</td>\n",
       "      <td>3200.100098</td>\n",
       "    </tr>\n",
       "    <tr>\n",
       "      <th>1992-01-06 00:00:00-05:00</th>\n",
       "      <td>3201.500000</td>\n",
       "      <td>3213.330078</td>\n",
       "      <td>3191.860107</td>\n",
       "      <td>3200.100098</td>\n",
       "      <td>27280000</td>\n",
       "      <td>3204.800049</td>\n",
       "    </tr>\n",
       "    <tr>\n",
       "      <th>1992-01-07 00:00:00-05:00</th>\n",
       "      <td>3200.100098</td>\n",
       "      <td>3210.199951</td>\n",
       "      <td>3184.479980</td>\n",
       "      <td>3204.800049</td>\n",
       "      <td>25510000</td>\n",
       "      <td>3203.899902</td>\n",
       "    </tr>\n",
       "    <tr>\n",
       "      <th>1992-01-08 00:00:00-05:00</th>\n",
       "      <td>3204.800049</td>\n",
       "      <td>3229.199951</td>\n",
       "      <td>3185.820068</td>\n",
       "      <td>3203.899902</td>\n",
       "      <td>29040000</td>\n",
       "      <td>3209.500000</td>\n",
       "    </tr>\n",
       "  </tbody>\n",
       "</table>\n",
       "</div>"
      ],
      "text/plain": [
       "                                  Open         High          Low        Close  \\\n",
       "Date                                                                            \n",
       "1992-01-02 00:00:00-05:00  3152.100098  3172.629883  3139.310059  3172.399902   \n",
       "1992-01-03 00:00:00-05:00  3172.399902  3210.639893  3165.919922  3201.500000   \n",
       "1992-01-06 00:00:00-05:00  3201.500000  3213.330078  3191.860107  3200.100098   \n",
       "1992-01-07 00:00:00-05:00  3200.100098  3210.199951  3184.479980  3204.800049   \n",
       "1992-01-08 00:00:00-05:00  3204.800049  3229.199951  3185.820068  3203.899902   \n",
       "\n",
       "                             Volume     Tomorrow  \n",
       "Date                                              \n",
       "1992-01-02 00:00:00-05:00  23550000  3201.500000  \n",
       "1992-01-03 00:00:00-05:00  23620000  3200.100098  \n",
       "1992-01-06 00:00:00-05:00  27280000  3204.800049  \n",
       "1992-01-07 00:00:00-05:00  25510000  3203.899902  \n",
       "1992-01-08 00:00:00-05:00  29040000  3209.500000  "
      ]
     },
     "execution_count": 113,
     "metadata": {},
     "output_type": "execute_result"
    }
   ],
   "source": [
    "dow['Tomorrow'] = dow['Close'].shift(-1)\n",
    "dow.head()"
   ]
  },
  {
   "cell_type": "markdown",
   "metadata": {},
   "source": [
    "Create target variables for whether price increases tomorrow"
   ]
  },
  {
   "cell_type": "code",
   "execution_count": 114,
   "metadata": {},
   "outputs": [
    {
     "data": {
      "text/html": [
       "<div>\n",
       "<style scoped>\n",
       "    .dataframe tbody tr th:only-of-type {\n",
       "        vertical-align: middle;\n",
       "    }\n",
       "\n",
       "    .dataframe tbody tr th {\n",
       "        vertical-align: top;\n",
       "    }\n",
       "\n",
       "    .dataframe thead th {\n",
       "        text-align: right;\n",
       "    }\n",
       "</style>\n",
       "<table border=\"1\" class=\"dataframe\">\n",
       "  <thead>\n",
       "    <tr style=\"text-align: right;\">\n",
       "      <th></th>\n",
       "      <th>Open</th>\n",
       "      <th>High</th>\n",
       "      <th>Low</th>\n",
       "      <th>Close</th>\n",
       "      <th>Volume</th>\n",
       "      <th>Tomorrow</th>\n",
       "      <th>Target</th>\n",
       "    </tr>\n",
       "    <tr>\n",
       "      <th>Date</th>\n",
       "      <th></th>\n",
       "      <th></th>\n",
       "      <th></th>\n",
       "      <th></th>\n",
       "      <th></th>\n",
       "      <th></th>\n",
       "      <th></th>\n",
       "    </tr>\n",
       "  </thead>\n",
       "  <tbody>\n",
       "    <tr>\n",
       "      <th>1992-01-02 00:00:00-05:00</th>\n",
       "      <td>3152.100098</td>\n",
       "      <td>3172.629883</td>\n",
       "      <td>3139.310059</td>\n",
       "      <td>3172.399902</td>\n",
       "      <td>23550000</td>\n",
       "      <td>3201.500000</td>\n",
       "      <td>1</td>\n",
       "    </tr>\n",
       "    <tr>\n",
       "      <th>1992-01-03 00:00:00-05:00</th>\n",
       "      <td>3172.399902</td>\n",
       "      <td>3210.639893</td>\n",
       "      <td>3165.919922</td>\n",
       "      <td>3201.500000</td>\n",
       "      <td>23620000</td>\n",
       "      <td>3200.100098</td>\n",
       "      <td>0</td>\n",
       "    </tr>\n",
       "    <tr>\n",
       "      <th>1992-01-06 00:00:00-05:00</th>\n",
       "      <td>3201.500000</td>\n",
       "      <td>3213.330078</td>\n",
       "      <td>3191.860107</td>\n",
       "      <td>3200.100098</td>\n",
       "      <td>27280000</td>\n",
       "      <td>3204.800049</td>\n",
       "      <td>1</td>\n",
       "    </tr>\n",
       "    <tr>\n",
       "      <th>1992-01-07 00:00:00-05:00</th>\n",
       "      <td>3200.100098</td>\n",
       "      <td>3210.199951</td>\n",
       "      <td>3184.479980</td>\n",
       "      <td>3204.800049</td>\n",
       "      <td>25510000</td>\n",
       "      <td>3203.899902</td>\n",
       "      <td>0</td>\n",
       "    </tr>\n",
       "    <tr>\n",
       "      <th>1992-01-08 00:00:00-05:00</th>\n",
       "      <td>3204.800049</td>\n",
       "      <td>3229.199951</td>\n",
       "      <td>3185.820068</td>\n",
       "      <td>3203.899902</td>\n",
       "      <td>29040000</td>\n",
       "      <td>3209.500000</td>\n",
       "      <td>1</td>\n",
       "    </tr>\n",
       "  </tbody>\n",
       "</table>\n",
       "</div>"
      ],
      "text/plain": [
       "                                  Open         High          Low        Close  \\\n",
       "Date                                                                            \n",
       "1992-01-02 00:00:00-05:00  3152.100098  3172.629883  3139.310059  3172.399902   \n",
       "1992-01-03 00:00:00-05:00  3172.399902  3210.639893  3165.919922  3201.500000   \n",
       "1992-01-06 00:00:00-05:00  3201.500000  3213.330078  3191.860107  3200.100098   \n",
       "1992-01-07 00:00:00-05:00  3200.100098  3210.199951  3184.479980  3204.800049   \n",
       "1992-01-08 00:00:00-05:00  3204.800049  3229.199951  3185.820068  3203.899902   \n",
       "\n",
       "                             Volume     Tomorrow  Target  \n",
       "Date                                                      \n",
       "1992-01-02 00:00:00-05:00  23550000  3201.500000       1  \n",
       "1992-01-03 00:00:00-05:00  23620000  3200.100098       0  \n",
       "1992-01-06 00:00:00-05:00  27280000  3204.800049       1  \n",
       "1992-01-07 00:00:00-05:00  25510000  3203.899902       0  \n",
       "1992-01-08 00:00:00-05:00  29040000  3209.500000       1  "
      ]
     },
     "execution_count": 114,
     "metadata": {},
     "output_type": "execute_result"
    }
   ],
   "source": [
    "dow['Target'] = (dow['Tomorrow'] > dow['Close']).astype(int)\n",
    "dow.head()"
   ]
  },
  {
   "cell_type": "markdown",
   "metadata": {},
   "source": [
    "## Training machine learning models"
   ]
  },
  {
   "cell_type": "markdown",
   "metadata": {},
   "source": [
    "### Functions"
   ]
  },
  {
   "cell_type": "markdown",
   "metadata": {},
   "source": [
    "Prediction function"
   ]
  },
  {
   "cell_type": "code",
   "execution_count": 115,
   "metadata": {},
   "outputs": [],
   "source": [
    "def predict(train, test, predictors, model):\n",
    "    # fit model\n",
    "    model.fit(X=train[predictors], y=train['Target'])\n",
    "    # obtain predictions\n",
    "    predictions = model.predict(X=test[predictors])\n",
    "    # convert to pd Series\n",
    "    predictions = pd.Series(predictions, index=test.index, name='Predictions')\n",
    "    # combine predictions with targets\n",
    "    return pd.concat([test['Target'], predictions], axis=1)"
   ]
  },
  {
   "cell_type": "markdown",
   "metadata": {},
   "source": [
    "Backtesting to create train/test splits using years up to $i$ to predict on year $i+1$"
   ]
  },
  {
   "cell_type": "code",
   "execution_count": 116,
   "metadata": {},
   "outputs": [],
   "source": [
    "def backtest(data, model, predictors, start=2500, step=250):\n",
    "    \n",
    "    all_predictions = []\n",
    "    num_rows = data.shape[0]\n",
    "    \n",
    "    for i in tqdm(range(start, num_rows, step)):\n",
    "        # train-test split\n",
    "        train = data.iloc[0:i].copy()\n",
    "        test = data.iloc[i:(i + step)].copy()\n",
    "        # obtain predictions\n",
    "        predictions = predict(train, test, predictors, model)\n",
    "        all_predictions.append(predictions)\n",
    "    \n",
    "    return pd.concat(all_predictions)"
   ]
  },
  {
   "cell_type": "markdown",
   "metadata": {},
   "source": [
    "Function to return precision, recall and F1"
   ]
  },
  {
   "cell_type": "code",
   "execution_count": 117,
   "metadata": {},
   "outputs": [],
   "source": [
    "from sklearn.metrics import precision_score\n",
    "from sklearn.metrics import recall_score\n",
    "from sklearn.metrics import f1_score\n",
    "\n",
    "def metrics(y_true, y_pred):\n",
    "    return precision_score(y_true, y_pred), recall_score(y_true, y_pred), f1_score(y_true, y_pred)\n",
    "\n",
    "def print_metrics(precision, recall, f1):\n",
    "    print(f'Precision: {precision}')\n",
    "    print(f'Recall: {recall}')\n",
    "    print(f'F1: {f1}')"
   ]
  },
  {
   "cell_type": "code",
   "execution_count": 118,
   "metadata": {},
   "outputs": [],
   "source": [
    "predictors = ['Close', 'Volume', 'Open', 'High', 'Low']"
   ]
  },
  {
   "cell_type": "markdown",
   "metadata": {},
   "source": [
    "### Random forest"
   ]
  },
  {
   "cell_type": "code",
   "execution_count": 119,
   "metadata": {},
   "outputs": [
    {
     "name": "stdout",
     "output_type": "stream",
     "text": [
      "Precision: 0.5359645887126522\n",
      "Recall: 0.48922558922558923\n",
      "F1: 0.5115296602710792\n"
     ]
    }
   ],
   "source": [
    "from sklearn.ensemble import RandomForestClassifier\n",
    "\n",
    "rf = RandomForestClassifier(n_estimators=80, min_samples_split=100, random_state=1)\n",
    "\n",
    "predictions = backtest(dow, rf, predictors)\n",
    "\n",
    "rf_precision, rf_recall, rf_f1 = metrics(y_true=predictions['Target'], y_pred=predictions['Predictions'])\n",
    "print_metrics(rf_precision, rf_recall, rf_f1)"
   ]
  }
 ],
 "metadata": {
  "kernelspec": {
   "display_name": "Python 3",
   "language": "python",
   "name": "python3"
  },
  "language_info": {
   "codemirror_mode": {
    "name": "ipython",
    "version": 3
   },
   "file_extension": ".py",
   "mimetype": "text/x-python",
   "name": "python",
   "nbconvert_exporter": "python",
   "pygments_lexer": "ipython3",
   "version": "3.10.0"
  }
 },
 "nbformat": 4,
 "nbformat_minor": 2
}
